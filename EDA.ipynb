{
 "cells": [
  {
   "cell_type": "code",
   "execution_count": 1,
   "metadata": {},
   "outputs": [],
   "source": [
    "import pandas as pd\n",
    "import matplotlib.pyplot as plt\n",
    "import seaborn as sns\n",
    "import numpy as np\n",
    "from scipy.stats import norm\n",
    "from sklearn.preprocessing import StandardScaler\n",
    "from scipy import stats\n",
    "import warnings\n",
    "import math\n",
    "warnings.filterwarnings('ignore')\n"
   ]
  },
  {
   "cell_type": "code",
   "execution_count": 2,
   "metadata": {},
   "outputs": [],
   "source": [
    "df_train = pd.read_csv(\"/home/hoangthanh/Desktop/house_price_prediction/data/train.csv\")"
   ]
  },
  {
   "cell_type": "code",
   "execution_count": null,
   "metadata": {},
   "outputs": [],
   "source": [
    "def check_category(data):\n",
    "    ls_category = []\n",
    "    for i in data:\n",
    "        for j in range(len(data)):\n",
    "            if type(data[i][j]) is str:\n",
    "                ls_category.append(i)\n",
    "                break\n",
    "    return ls_category\n",
    "ls_category = check_category(df_train)"
   ]
  },
  {
   "cell_type": "code",
   "execution_count": null,
   "metadata": {},
   "outputs": [],
   "source": [
    "def check_numerical(data):\n",
    "    ls_numerical = []\n",
    "    for i in data:\n",
    "        if i not in ls_category:\n",
    "            ls_numerical.append(i)\n",
    "    return ls_numerical\n",
    "ls_numerical = check_numerical(df_train)"
   ]
  },
  {
   "cell_type": "code",
   "execution_count": null,
   "metadata": {},
   "outputs": [],
   "source": [
    "def check_missingvalues(data):\n",
    "    ls_count = []\n",
    "    for column in ls_numerical:\n",
    "        missing_values = sum(data[column].isna())\n",
    "        ls_count.append(missing_values)\n",
    "    return ls_count "
   ]
  },
  {
   "cell_type": "code",
   "execution_count": null,
   "metadata": {},
   "outputs": [],
   "source": [
    "def del_na(data,column):\n",
    "    ls_values1 = [x for x in data[column]]\n",
    "    ls_values = [x for x in ls_values1 if (math.isnan(x) != True)]\n",
    "    return ls_values"
   ]
  },
  {
   "cell_type": "code",
   "execution_count": null,
   "metadata": {},
   "outputs": [],
   "source": [
    "def average_mv(ls):\n",
    "    average = sum(ls)/len(ls)\n",
    "    return average"
   ]
  },
  {
   "cell_type": "code",
   "execution_count": null,
   "metadata": {},
   "outputs": [],
   "source": [
    "def fill_na(data,column,numb): \n",
    "    fill_na_values = data[column].fillna(numb)\n",
    "    return fill_na_values"
   ]
  },
  {
   "cell_type": "code",
   "execution_count": null,
   "metadata": {},
   "outputs": [],
   "source": [
    "def data_median50(ls4):\n",
    "    x = sorted(ls4)\n",
    "    if len(x)%2 !=0:\n",
    "        a = int(len(x)/2)\n",
    "        median = x[a]\n",
    "    else:\n",
    "        a = int(len(x)/2)\n",
    "        median = (x[a-1] + x[a])/2\n",
    "    return median"
   ]
  },
  {
   "cell_type": "code",
   "execution_count": null,
   "metadata": {},
   "outputs": [],
   "source": [
    "def standard_deviation(ls7):\n",
    "    tb = sum(ls7)/len(ls7)\n",
    "    dv = []\n",
    "    for e in ls7:\n",
    "        numb = (e - tb) **2\n",
    "        dv.append(numb)\n",
    "    stdv = math.sqrt(sum(dv)/(len(ls7) - 1))\n",
    "    return stdv"
   ]
  },
  {
   "cell_type": "code",
   "execution_count": null,
   "metadata": {},
   "outputs": [],
   "source": [
    "def Covariance(x,y): \n",
    "    xm = sum(x)/len(x)\n",
    "    ym = sum(y)/len(y)\n",
    "    ls_x = []\n",
    "    ls_y = []\n",
    "    xy = []\n",
    "    for numb in x:\n",
    "        number = numb - xm\n",
    "        ls_x.append(number)\n",
    "    for numb in y:\n",
    "        number1 = numb - ym\n",
    "        ls_y.append(number1)\n",
    "    for i,j in zip(ls_x,ls_y):\n",
    "        number2 = i*j\n",
    "        xy.append(number2)\n",
    "    cov = sum(xy)/(len(x)-1)\n",
    "    return cov"
   ]
  },
  {
   "cell_type": "code",
   "execution_count": null,
   "metadata": {},
   "outputs": [],
   "source": [
    "def Correlation_coefficient(x,y):\n",
    "    Correlation = Covariance(x,y)/(standard_deviation(x)*standard_deviation(y))\n",
    "    return Correlation"
   ]
  }
 ],
 "metadata": {
  "kernelspec": {
   "display_name": "test_env",
   "language": "python",
   "name": "python3"
  },
  "language_info": {
   "codemirror_mode": {
    "name": "ipython",
    "version": 3
   },
   "file_extension": ".py",
   "mimetype": "text/x-python",
   "name": "python",
   "nbconvert_exporter": "python",
   "pygments_lexer": "ipython3",
   "version": "3.9.16"
  },
  "orig_nbformat": 4
 },
 "nbformat": 4,
 "nbformat_minor": 2
}
